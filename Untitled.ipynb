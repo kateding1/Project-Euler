{
 "cells": [
  {
   "cell_type": "markdown",
   "metadata": {},
   "source": [
    "Sum square difference\n",
    "Problem 6 \n",
    "The sum of the squares of the first ten natural numbers is,\n",
    "\n",
    "12 + 22 + ... + 102 = 385\n",
    "The square of the sum of the first ten natural numbers is,\n",
    "\n",
    "(1 + 2 + ... + 10)2 = 552 = 3025\n",
    "Hence the difference between the sum of the squares of the first ten natural numbers and the square of the sum is 3025 − 385 = 2640.\n",
    "\n",
    "Find the difference between the sum of the squares of the first one hundred natural numbers and the square of the sum."
   ]
  },
  {
   "cell_type": "code",
   "execution_count": null,
   "metadata": {
    "collapsed": true
   },
   "outputs": [],
   "source": [
    "s1 = 0\n",
    "s2 = 0\n",
    "for i in range(1,101):\n",
    "    s1 += i\n",
    "    s2 +=i**2\n",
    "print s2, s1\n",
    "s1 = s1**2\n",
    "diff = s1 - s2\n",
    "print diff"
   ]
  },
  {
   "cell_type": "code",
   "execution_count": null,
   "metadata": {
    "collapsed": true
   },
   "outputs": [],
   "source": [
    "#Method 2\n",
    "time = 100\n",
    "s1 = time*(time+1)/2\n",
    "s2 = time*(2*time+1)*(time+1)/6\n",
    "diff = s1**2-s2\n",
    "print diff"
   ]
  },
  {
   "cell_type": "markdown",
   "metadata": {},
   "source": [
    "10001st prime\n",
    "Problem 7 \n",
    "By listing the first six prime numbers: 2, 3, 5, 7, 11, and 13, we can see that the 6th prime is 13.\n",
    "\n",
    "What is the 10 001st prime number?"
   ]
  },
  {
   "cell_type": "code",
   "execution_count": null,
   "metadata": {
    "collapsed": true
   },
   "outputs": [],
   "source": [
    "from time import clock\n",
    "from math import sqrt\n",
    "start = clock()\n",
    "def prime():\n",
    "    s = 0\n",
    "    k = 2\n",
    "    def check(k):\n",
    "\n",
    "        for i in range(2,int(sqrt(k))+1):\n",
    "            if k%i== 0: \n",
    "                return False\n",
    "        return True            \n",
    "        \n",
    "    while s < 10001:\n",
    "        k = k+1\n",
    "        if check(k):\n",
    "        #k is prime number\n",
    "            p = k\n",
    "            s =s+1\n",
    "    return p\n",
    "print prime()\n",
    "finish = clock()\n",
    "print('用时%f秒'%(finish-start))  "
   ]
  },
  {
   "cell_type": "code",
   "execution_count": null,
   "metadata": {
    "collapsed": true
   },
   "outputs": [],
   "source": [
    "from time import clock\n",
    "from math import sqrt\n",
    "start = clock()\n",
    "def prime(n):\n",
    "    i = 0\n",
    "    num = 2\n",
    "    def check_prime(num):\n",
    "        for i in range(2,int(sqrt(num))+1):\n",
    "            if num % i == 0:\n",
    "                return False\n",
    "        return True\n",
    "    \n",
    "    while i<n:\n",
    "        if check_prime(num):\n",
    "            i +=1\n",
    "        num += 1\n",
    "    return i, num-1\n",
    "\n",
    "(i,num) = prime(10001)\n",
    "print('第%d个质数是：%d' %(i,num))\n",
    "finish = clock()\n",
    "print('用时%f秒'%(finish-start))"
   ]
  },
  {
   "cell_type": "code",
   "execution_count": null,
   "metadata": {
    "collapsed": true
   },
   "outputs": [],
   "source": [
    "from time import clock\n",
    "import numpy as np\n",
    "\n",
    "start = clock()\n",
    "\n",
    "def isPrime(n):\n",
    "    if n==1:\n",
    "        return False\n",
    "    elif n<4:\n",
    "        return True\n",
    "    elif n%2 == 0:\n",
    "        return False\n",
    "    elif n<9:\n",
    "        return True\n",
    "    elif n%3 == 0:\n",
    "        return False\n",
    "    else:\n",
    "        r = np.floor(np.sqrt(n))\n",
    "        f = 5\n",
    "        while f<=r:\n",
    "            if n%f == 0:\n",
    "                return False\n",
    "            if n%(f+2)==0:\n",
    "                return False\n",
    "            f = f+6\n",
    "        return True\n",
    "limit = 10001\n",
    "count = 1\n",
    "candidate = 1\n",
    "while count<=limit:\n",
    "    candidate =candidate+2\n",
    "    if isPrime(candidate):\n",
    "        count = count+1\n",
    "print candidate\n",
    "finish = clock()\n",
    "print '用时%f秒' %(finish - start)"
   ]
  },
  {
   "cell_type": "markdown",
   "metadata": {},
   "source": [
    "Problem 8"
   ]
  },
  {
   "cell_type": "code",
   "execution_count": null,
   "metadata": {
    "collapsed": true
   },
   "outputs": [],
   "source": [
    "P = \"73167176531330624919225119674426574742355349194934\\\n",
    "96983520312774506326239578318016984801869478851843\\\n",
    "85861560789112949495459501737958331952853208805511\\\n",
    "12540698747158523863050715693290963295227443043557\\\n",
    "66896648950445244523161731856403098711121722383113\\\n",
    "62229893423380308135336276614282806444486645238749\\\n",
    "30358907296290491560440772390713810515859307960866\\\n",
    "70172427121883998797908792274921901699720888093776\\\n",
    "65727333001053367881220235421809751254540594752243\\\n",
    "52584907711670556013604839586446706324415722155397\\\n",
    "53697817977846174064955149290862569321978468622482\\\n",
    "83972241375657056057490261407972968652414535100474\\\n",
    "82166370484403199890008895243450658541227588666881\\\n",
    "16427171479924442928230863465674813919123162824586\\\n",
    "17866458359124566529476545682848912883142607690042\\\n",
    "24219022671055626321111109370544217506941658960408\\\n",
    "07198403850962455444362981230987879927244284909188\\\n",
    "84580156166097919133875499200524063689912560717606\\\n",
    "05886116467109405077541002256983155200055935729725\\\n",
    "71636269561882670428252483600823257530420752963450\"\n",
    "import numpy as np\n",
    "\n",
    "\n",
    "\n",
    "numberlist = [int(P[item:item+1]) for item in range(0, len(P))]\n",
    "\n",
    "def mul(n, num):\n",
    "    temp = 1\n",
    "    for i in range(0, n):\n",
    "        temp *= num[i]\n",
    "    return temp\n",
    "\n",
    "n = 13\n",
    "\n",
    "initial = []\n",
    "\n",
    "for i in range (0,1000-13):\n",
    "    tp = mul(n, numberlist[i:i+n])\n",
    "    initial.append(tp)\n",
    "max(initial)"
   ]
  },
  {
   "cell_type": "code",
   "execution_count": null,
   "metadata": {
    "collapsed": true
   },
   "outputs": [],
   "source": [
    "P = \"73167176531330624919225119674426574742355349194934\\\n",
    "96983520312774506326239578318016984801869478851843\\\n",
    "85861560789112949495459501737958331952853208805511\\\n",
    "12540698747158523863050715693290963295227443043557\\\n",
    "66896648950445244523161731856403098711121722383113\\\n",
    "62229893423380308135336276614282806444486645238749\\\n",
    "30358907296290491560440772390713810515859307960866\\\n",
    "70172427121883998797908792274921901699720888093776\\\n",
    "65727333001053367881220235421809751254540594752243\\\n",
    "52584907711670556013604839586446706324415722155397\\\n",
    "53697817977846174064955149290862569321978468622482\\\n",
    "83972241375657056057490261407972968652414535100474\\\n",
    "82166370484403199890008895243450658541227588666881\\\n",
    "16427171479924442928230863465674813919123162824586\\\n",
    "17866458359124566529476545682848912883142607690042\\\n",
    "24219022671055626321111109370544217506941658960408\\\n",
    "07198403850962455444362981230987879927244284909188\\\n",
    "84580156166097919133875499200524063689912560717606\\\n",
    "05886116467109405077541002256983155200055935729725\\\n",
    "71636269561882670428252483600823257530420752963450\"\n",
    "from functools import reduce\n",
    "dim = 13\n",
    "\n",
    "max(reduce(lambda x, y:x*y, map(int,P[item:item+dim]),1)\\\n",
    "    for item in range(0, len(P)-dim))"
   ]
  },
  {
   "cell_type": "markdown",
   "metadata": {},
   "source": [
    "Problem 9"
   ]
  },
  {
   "cell_type": "code",
   "execution_count": null,
   "metadata": {
    "collapsed": true
   },
   "outputs": [],
   "source": [
    "import numpy as np\n",
    "from functools import reduce\n",
    "from time import clock\n",
    "start = clock()\n",
    "a = 2\n",
    "\n",
    "result = np.zeros((3,1))\n",
    "while a <1000:\n",
    "    b = 1\n",
    "    while b <a:\n",
    "        c = 1000 - a - b\n",
    "        if c < a:\n",
    "            pass\n",
    "        else:\n",
    "            if a**2 + b**2 == c**2:\n",
    "                result[0,0] = a\n",
    "                result[1,0] = b\n",
    "                result[2,0] = c\n",
    "        b = b+1\n",
    "    a = a+1\n",
    "rrr = reduce(lambda x, y:x * y, result, 1)\n",
    "finish = clock()\n",
    "print '用时%r秒' % (finish - start)\n",
    "print rrr"
   ]
  },
  {
   "cell_type": "markdown",
   "metadata": {},
   "source": [
    "Problem 10"
   ]
  },
  {
   "cell_type": "code",
   "execution_count": null,
   "metadata": {
    "collapsed": true
   },
   "outputs": [],
   "source": [
    "import numpy as np\n",
    "from time import clock\n",
    "start = clock()\n",
    "\n",
    "def isprime(n):\n",
    "    if n == 1:\n",
    "        return False\n",
    "    elif n<4:\n",
    "        return True\n",
    "    elif n%2 == 0:\n",
    "        return False\n",
    "    elif n<9:\n",
    "        return True\n",
    "    elif n%3 == 0:\n",
    "        return False\n",
    "    else:\n",
    "        r = np.floor(np.sqrt(n))\n",
    "        f = 5\n",
    "        while f<=r:\n",
    "            if n % f == 0:\n",
    "                return False\n",
    "            elif n % (f+2) == 0:\n",
    "                return False\n",
    "            f = f +6\n",
    "        return True\n",
    "limit = 2000000\n",
    "candidate = 1\n",
    "sum = 0\n",
    "while candidate < limit:\n",
    "    candidate = candidate + 1\n",
    "    if isprime(candidate):\n",
    "        sum += candidate\n",
    "print sum\n"
   ]
  },
  {
   "cell_type": "markdown",
   "metadata": {},
   "source": [
    "Problem 11"
   ]
  },
  {
   "cell_type": "code",
   "execution_count": null,
   "metadata": {
    "collapsed": true
   },
   "outputs": [],
   "source": [
    "import numpy as np\n",
    "from functools import reduce\n",
    "P = \"\"\"\n",
    "08 02 22 97 38 15 00 40 00 75 04 05 07 78 52 12 50 77 91 08\n",
    "49 49 99 40 17 81 18 57 60 87 17 40 98 43 69 48 04 56 62 00\n",
    "81 49 31 73 55 79 14 29 93 71 40 67 53 88 30 03 49 13 36 65\n",
    "52 70 95 23 04 60 11 42 69 24 68 56 01 32 56 71 37 02 36 91\n",
    "22 31 16 71 51 67 63 89 41 92 36 54 22 40 40 28 66 33 13 80\n",
    "24 47 32 60 99 03 45 02 44 75 33 53 78 36 84 20 35 17 12 50\n",
    "32 98 81 28 64 23 67 10 26 38 40 67 59 54 70 66 18 38 64 70\n",
    "67 26 20 68 02 62 12 20 95 63 94 39 63 08 40 91 66 49 94 21\n",
    "24 55 58 05 66 73 99 26 97 17 78 78 96 83 14 88 34 89 63 72\n",
    "21 36 23 09 75 00 76 44 20 45 35 14 00 61 33 97 34 31 33 95\n",
    "78 17 53 28 22 75 31 67 15 94 03 80 04 62 16 14 09 53 56 92\n",
    "16 39 05 42 96 35 31 47 55 58 88 24 00 17 54 24 36 29 85 57\n",
    "86 56 00 48 35 71 89 07 05 44 44 37 44 60 21 58 51 54 17 58\n",
    "19 80 81 68 05 94 47 69 28 73 92 13 86 52 17 77 04 89 55 40\n",
    "04 52 08 83 97 35 99 16 07 97 57 32 16 26 26 79 33 27 98 66\n",
    "88 36 68 87 57 62 20 72 03 46 33 67 46 55 12 32 63 93 53 69\n",
    "04 42 16 73 38 25 39 11 24 94 72 18 08 46 29 32 40 62 76 36\n",
    "20 69 36 41 72 30 23 88 34 62 99 69 82 67 59 85 74 04 36 16\n",
    "20 73 35 29 78 31 90 01 74 31 49 71 48 86 81 16 23 57 05 54\n",
    "01 70 54 71 83 51 54 69 16 92 33 48 61 43 52 01 89 19 67 48\"\"\"\n",
    "P1 = P.split()\n",
    "P1 = np.matrix(P1)\n",
    "P1.size\n",
    "P1 = np.reshape(P1, (20,20))"
   ]
  },
  {
   "cell_type": "code",
   "execution_count": null,
   "metadata": {
    "collapsed": true
   },
   "outputs": [],
   "source": [
    "maxm = 0\n",
    "for i in range(0,20):\n",
    "    temp1 = 0\n",
    "    temp2 = 0\n",
    "    temp3 = 0\n",
    "    temp4 = 0\n",
    "    for j in range(0,20):\n",
    "        if i+4 <= 20:\n",
    "            numli1 = [int(P1[item,j])for item in range(i,i+4)]\n",
    "            temp1 = reduce(lambda x, y:x*y, numli1, 1)\n",
    "        if j+4 <= 20:\n",
    "            numli2 = [int(P1[i,item])for item in range(j,j+4)]\n",
    "            temp2 = reduce(lambda x, y:x*y, numli2, 1)\n",
    "        if j+4<=20 and i+4<=20:\n",
    "            numli3 = [int(P1[i,j]),int(P1[i+1,j+1]),int(P1[i+2,j+2]),int(P1[i+3,j+3])]\n",
    "            temp3 = reduce(lambda x, y:x*y, numli3, 1)\n",
    "        if j-4>=0 and i+4<= 20:\n",
    "            numli4 = [int(P1[i,j]),int(P1[i+1,j-1]),int(P1[i+2,j-2]),int(P1[i+3,j-3])]\n",
    "            temp4 = reduce(lambda x, y:x*y, numli4, 1)\n",
    "        maxm = max(maxm, temp1, temp2, temp3, temp4)\n",
    "print maxm\n",
    "        "
   ]
  },
  {
   "cell_type": "code",
   "execution_count": null,
   "metadata": {
    "collapsed": true
   },
   "outputs": [],
   "source": [
    "#改写\n",
    "def fourcul(num):\n",
    "    numb = [int(num[0,i])for i in range(0,4)]\n",
    "    p = reduce(lambda x, y:x*y, numb,1)\n",
    "    return p\n",
    "maxm = 0\n",
    "for i in range(0,20):\n",
    "\n",
    "    for j in range(0,20):    \n",
    "        temp1 = 0\n",
    "        temp2 = 0\n",
    "        temp3 = 0\n",
    "        temp4 = 0\n",
    "        if i+4 <= 20:\n",
    "            numli1 = P1[i:i+4,j].reshape(1,4)\n",
    "\n",
    "            temp1 = fourcul(numli1)\n",
    "        if j+4 <= 20:\n",
    "            numli2 = P1[i,j:j+4]\n",
    "            temp2 = fourcul(numli2)\n",
    "        if j+4<=20 and i+4<=20:\n",
    "            numli3 = np.array([P1[i,j],P1[i+1,j+1],P1[i+2,j+2],P1[i+3,j+3]]).reshape(1,4)\n",
    "\n",
    "            temp3 = fourcul(numli3)\n",
    "        if j-4>=0 and i+4<= 20:\n",
    "            numli4 = np.array([P1[i,j],P1[i+1,j-1],P1[i+2,j-2],P1[i+3,j-3]]).reshape(1,4)\n",
    "            temp4 = fourcul(numli4)\n",
    "        maxm = max(maxm, temp1, temp2, temp3, temp4)\n",
    "print maxm\n",
    "        "
   ]
  },
  {
   "cell_type": "markdown",
   "metadata": {},
   "source": [
    "Problem 12"
   ]
  },
  {
   "cell_type": "code",
   "execution_count": null,
   "metadata": {
    "collapsed": true
   },
   "outputs": [],
   "source": [
    "import numpy as np\n",
    "import itertools\n",
    "\n",
    "def appcount(n):\n",
    "    c = 0\n",
    "    for i in range(1,int(np.sqrt(n))):\n",
    "        if n % i == 0:\n",
    "            c+=1\n",
    "    return 2*c\n",
    "\n",
    "summ = 0\n",
    "\n",
    "for m in itertools.count(1):\n",
    "    summ += m\n",
    "    if appcount(summ)> 500:\n",
    "        print summ\n",
    "        break\n",
    "    "
   ]
  },
  {
   "cell_type": "markdown",
   "metadata": {},
   "source": [
    "Problem 13"
   ]
  },
  {
   "cell_type": "code",
   "execution_count": null,
   "metadata": {
    "collapsed": true
   },
   "outputs": [],
   "source": [
    "File = open(\"p13.txt\",'r')\n",
    "P = File.read()\n",
    "P = P.split()\n",
    "Pnew = \"\".join(P)\n",
    "Num = [int(Pnew[item:item+50]) for item in range(0,len(Pnew)-49,50)]\n",
    "len(Num)\n",
    "from functools import reduce\n",
    "result = reduce(lambda x,y:x+y, Num)\n",
    "print result/(10**(len(str(result))-10))"
   ]
  },
  {
   "cell_type": "code",
   "execution_count": null,
   "metadata": {
    "collapsed": true
   },
   "outputs": [],
   "source": [
    "#好的方法\n",
    "import numpy as np\n",
    "Flie = open(\"p13.txt\",'r')\n",
    "P = Flie.read()\n",
    "P = P.split('\\n')\n",
    "Num = map(int, P)\n",
    "str(np.sum(Num))[:10]"
   ]
  },
  {
   "cell_type": "markdown",
   "metadata": {
    "collapsed": true
   },
   "source": [
    "Problem 14"
   ]
  },
  {
   "cell_type": "code",
   "execution_count": 4,
   "metadata": {},
   "outputs": [
    {
     "name": "stdout",
     "output_type": "stream",
     "text": [
      "166666\n",
      "410011\n"
     ]
    }
   ],
   "source": [
    "def sx(n):\n",
    "    if 3*n+1 > 1000000:\n",
    "        return True\n",
    "    return False\n",
    "listt = []\n",
    "for i in range(0,1000000):\n",
    "    if sx(i):\n",
    "        listt.append(i)\n",
    "def zl(n):\n",
    "    if n % 2 == 0:\n",
    "        return n/2\n",
    "    else:\n",
    "        return 3*n+1\n",
    "import itertools\n",
    "print len(listt)    \n",
    "count = 0\n",
    "countnew = 0\n",
    "ppp = 0\n",
    "for i in range(0,len(listt)):\n",
    "    temp = listt[i]\n",
    "    temp1 = temp\n",
    "    for k in itertools.count(1):\n",
    "        temp = zl(temp)\n",
    "        if temp == 1:\n",
    "            countnew = k+1\n",
    "            break\n",
    "    count = max(countnew, count)\n",
    "    if count == countnew:\n",
    "        ppp = temp1\n",
    "print ppp"
   ]
  },
  {
   "cell_type": "code",
   "execution_count": null,
   "metadata": {
    "collapsed": true
   },
   "outputs": [],
   "source": [
    "count"
   ]
  },
  {
   "cell_type": "code",
   "execution_count": 3,
   "metadata": {},
   "outputs": [
    {
     "name": "stdout",
     "output_type": "stream",
     "text": [
      "837799\n",
      "525\n"
     ]
    }
   ],
   "source": [
    "l=0\n",
    "list2=[]\n",
    "for i in range(1,1000000):\n",
    "    list = [i]\n",
    "    while i!=1:\n",
    "        if i%2==0:\n",
    "            i=i/2\n",
    "            list.append(i)\n",
    "        else:\n",
    "            i = 3*i+1\n",
    "            list.append(i)\n",
    "    if len(list)>l:\n",
    "        l = len(list)\n",
    "        list2 = list\n",
    "print list2[0]\n",
    "print l"
   ]
  },
  {
   "cell_type": "markdown",
   "metadata": {},
   "source": [
    "Problem 15"
   ]
  },
  {
   "cell_type": "code",
   "execution_count": 12,
   "metadata": {},
   "outputs": [
    {
     "data": {
      "text/plain": [
       "137846528820.0"
      ]
     },
     "execution_count": 12,
     "metadata": {},
     "output_type": "execute_result"
    }
   ],
   "source": [
    "import numpy as np\n",
    "def squarecal(n):\n",
    "    square = np.zeros((n+1,n+1))\n",
    "    for i in range(0,n+1):\n",
    "        square[0, i] = 1\n",
    "        square[i, 0] = 1\n",
    "    for i in range(1,n+1):\n",
    "        for j in range(1,n+1):\n",
    "            square[i,j] = square[i-1,j] + square[i, j-1]\n",
    "    return square[n,n]\n",
    "squarecal(20)"
   ]
  },
  {
   "cell_type": "markdown",
   "metadata": {},
   "source": [
    "Problem 16"
   ]
  },
  {
   "cell_type": "code",
   "execution_count": 15,
   "metadata": {},
   "outputs": [
    {
     "name": "stdout",
     "output_type": "stream",
     "text": [
      "1366\n"
     ]
    }
   ],
   "source": [
    "import numpy as np\n",
    "n = 2** 1000\n",
    "nn = str(n)\n",
    "numb = map(int, nn)\n",
    "print np.sum(numb)"
   ]
  },
  {
   "cell_type": "code",
   "execution_count": 62,
   "metadata": {},
   "outputs": [
    {
     "name": "stdout",
     "output_type": "stream",
     "text": [
      "21124\n"
     ]
    }
   ],
   "source": [
    "dic = {1:'one', 2:'two', 3:'three', 4:'four', 5:'five', 6:'six', 7:'seven', 8:'eight',\\\n",
    "       9:'nine', 10:'ten', 11:'eleven', 12:'twelve', 13:'thirteen', 14:'fourteen',\\\n",
    "       15:'fifteen', 16:'sixteen', 17:'seventeen', 18:'eighteen', 19:'nineteen',\\\n",
    "       20:'twenty', 30:'thirty', 40:'forty', 50:'fifty', 60:'sixty', 70:'seventy',\\\n",
    "       80:'eighty', 90:'ninety', 100:'hundred', 1000:'onethousand'}\n",
    "def gewei(n,dictt):\n",
    "    return dictt[n]\n",
    "def shiwei(n, dictt):\n",
    "    zim = str(n)\n",
    "    numb = map(int,zim)        \n",
    "    numb1 = numb[0]*10\n",
    "    numb2 = numb[1]\n",
    "    if numb2 == 0:\n",
    "        return dictt[n]\n",
    "    else:\n",
    "\n",
    "        return dictt[numb1]+\" \"+dictt[numb2]\n",
    "def baiwei(n, dictt):\n",
    "    zim = str(n)\n",
    "    numb = map(int,zim)\n",
    "    numb1 = numb[0]\n",
    "    numb2 = 100\n",
    "    conn = \"and\"\n",
    "    numb3 = numb[1]*10\n",
    "    numb4 = numb[2]\n",
    "    if numb4 ==0 and numb3 == 0:\n",
    "        return dictt[numb1]+\" \"+dictt[numb2]\n",
    "    elif numb3 == 0:\n",
    "        return dictt[numb1]+\" \"+dictt[numb2]+\" \"+conn+\" \"+dictt[numb4]\n",
    "    elif numb3 < 20:\n",
    "        numb3 = numb[1]*10 + numb[2]\n",
    "        return dictt[numb1]+\" \"+dictt[numb2]+\" \"+conn+\" \"+dictt[numb3]\n",
    "    elif numb4 == 0:\n",
    "        return dictt[numb1]+\" \"+dictt[numb2]+\" \"+conn+\" \"+dictt[numb3]\n",
    "    else:\n",
    "        return dictt[numb1]+\" \"+dictt[numb2]+\" \"+conn+\" \"+dictt[numb3]+\" \"+dictt[numb4]\n",
    "\n",
    "    \n",
    "count = 0\n",
    "for temp in range(1,1001):\n",
    "    if temp < 20 or temp == 1000:\n",
    "        sen = gewei(temp, dic)\n",
    "        count += len(sen)\n",
    "    elif temp<100:\n",
    "        sen = shiwei(temp, dic)\n",
    "        count += len(\"\".join(sen.split()))\n",
    "    else:\n",
    "        sen = baiwei(temp, dic)\n",
    "        count += len(\"\".join(sen.split()))\n",
    "print count\n",
    "        "
   ]
  },
  {
   "cell_type": "markdown",
   "metadata": {},
   "source": [
    "Problem 18"
   ]
  },
  {
   "cell_type": "code",
   "execution_count": 15,
   "metadata": {},
   "outputs": [],
   "source": [
    "P = '''75\n",
    "95 64\n",
    "17 47 82\n",
    "18 35 87 10\n",
    "20 04 82 47 65\n",
    "19 01 23 75 03 34\n",
    "88 02 77 73 07 63 67\n",
    "99 65 04 28 06 16 70 92\n",
    "41 41 26 56 83 40 80 70 33\n",
    "41 48 72 33 47 32 37 16 94 29\n",
    "53 71 44 65 25 43 91 52 97 51 14\n",
    "70 11 33 28 77 73 17 78 39 68 17 57\n",
    "91 71 52 38 17 14 91 43 58 50 27 29 48\n",
    "63 66 04 68 89 53 67 30 73 16 69 87 40 31\n",
    "04 62 98 27 23 09 70 98 73 93 38 53 60 04 23'''\n",
    "P =P.split('\\n')"
   ]
  },
  {
   "cell_type": "code",
   "execution_count": 52,
   "metadata": {},
   "outputs": [
    {
     "name": "stdout",
     "output_type": "stream",
     "text": [
      "1074\n"
     ]
    }
   ],
   "source": [
    "numberlist = []\n",
    "for i in P:\n",
    "    i = i.split()\n",
    "    numberlist.append(i)\n",
    "    \n",
    "for i in range(len(numberlist)-1,0,-1):\n",
    "    for j in range(0,len(numberlist[i])):\n",
    "        numberlist[i][j] = int(numberlist[i][j])\n",
    "numberlist[0][0] = int(numberlist[0][0])\n",
    "\n",
    "for i in range(len(numberlist)-1,0,-1):\n",
    "    for j in range(0,len(numberlist[i])-1):\n",
    "        if numberlist[i][j]<numberlist[i][j+1]:\n",
    "            numberlist[i][j] = numberlist[i][j+1]\n",
    "        numberlist[i-1][j] += numberlist[i][j]\n",
    "    del numberlist[i][len(numberlist[i])-1]\n",
    "print numberlist[0][0]    "
   ]
  },
  {
   "cell_type": "markdown",
   "metadata": {},
   "source": [
    "Problem 19"
   ]
  },
  {
   "cell_type": "code",
   "execution_count": 78,
   "metadata": {},
   "outputs": [
    {
     "name": "stdout",
     "output_type": "stream",
     "text": [
      "5221\n"
     ]
    }
   ],
   "source": [
    "Aweek = ['Sunday','Monday', 'Tuesday', 'Wednsday', 'Thursday', 'Friday', 'Saturday']\n",
    "temp = 1900%400\n",
    "if temp == 0:\n",
    "    t = 366\n",
    "else:\n",
    "    t = 365\n",
    "\n",
    "temp = t % 7 + 1\n",
    "endyearday = Aweek[temp]\n",
    "count = 0\n",
    "for i in range(1901,2001):\n",
    "    rest = i %4\n",
    "    if rest == 0:\n",
    "        t = 366\n",
    "    else:\n",
    "        t = 365\n",
    "    temp += t % 7\n",
    "    if temp >= 7:\n",
    "        temp = temp - 6\n",
    "        count += 1\n",
    "    endyearday= Aweek[temp]\n",
    "    count += (t - t % 7) / 7\n",
    "print count"
   ]
  },
  {
   "cell_type": "code",
   "execution_count": 79,
   "metadata": {},
   "outputs": [
    {
     "name": "stdout",
     "output_type": "stream",
     "text": [
      "5217\n"
     ]
    }
   ],
   "source": [
    "Aweek = ['Sunday','Monday', 'Tuesday', 'Wednsday', 'Thursday', 'Friday', 'Saturday']\n",
    "temp = 1900%400\n",
    "if temp == 0:\n",
    "    t = 366\n",
    "else:\n",
    "    t = 365\n",
    "\n",
    "temp = t % 7 + 1\n",
    "endyearday = Aweek[temp]\n",
    "count = 0\n",
    "for i in range(1901,2001):\n",
    "    rest = i %4\n",
    "    if rest == 0:\n",
    "        t = 366\n",
    "    else:\n",
    "        t = 365\n",
    "    count += t\n",
    "final = count % 7\n",
    "number = (count - final) / 7\n",
    "temp += final\n",
    "if temp == 7:\n",
    "    number += 1\n",
    "    \n",
    "print number\n",
    "    "
   ]
  },
  {
   "cell_type": "code",
   "execution_count": null,
   "metadata": {
    "collapsed": true
   },
   "outputs": [],
   "source": []
  }
 ],
 "metadata": {
  "kernelspec": {
   "display_name": "Python 2",
   "language": "python",
   "name": "python2"
  },
  "language_info": {
   "codemirror_mode": {
    "name": "ipython",
    "version": 2
   },
   "file_extension": ".py",
   "mimetype": "text/x-python",
   "name": "python",
   "nbconvert_exporter": "python",
   "pygments_lexer": "ipython2",
   "version": "2.7.13"
  }
 },
 "nbformat": 4,
 "nbformat_minor": 2
}
